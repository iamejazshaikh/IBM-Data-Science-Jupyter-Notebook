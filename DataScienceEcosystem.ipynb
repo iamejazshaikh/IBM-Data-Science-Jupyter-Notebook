{
  "metadata": {
    "language_info": {
      "codemirror_mode": {
        "name": "python",
        "version": 3
      },
      "file_extension": ".py",
      "mimetype": "text/x-python",
      "name": "python",
      "nbconvert_exporter": "python",
      "pygments_lexer": "ipython3",
      "version": "3.8"
    },
    "kernelspec": {
      "name": "python",
      "display_name": "Python (Pyodide)",
      "language": "python"
    }
  },
  "nbformat_minor": 4,
  "nbformat": 4,
  "cells": [
    {
      "cell_type": "markdown",
      "source": "<h1> Data Science Tools and Ecosystem<h1>",
      "metadata": {}
    },
    {
      "cell_type": "markdown",
      "source": "In this notebook, Data Science Tools and Ecosystem are summerized. ",
      "metadata": {}
    },
    {
      "cell_type": "markdown",
      "source": "Objectives: \n* Introduction\n* Popular Languages In Data Science\n* Libraries used by Data Science",
      "metadata": {}
    },
    {
      "cell_type": "markdown",
      "source": "Some of the popular languages that Data Scientists Use:\n1. Python\n2. Scala\n3. Julia\n4. R\n",
      "metadata": {}
    },
    {
      "cell_type": "markdown",
      "source": "Some of the commonly used librariesby Data Scientists Include:\n1. NumPy\n2. PyTorch\n3. Pandas",
      "metadata": {}
    },
    {
      "cell_type": "markdown",
      "source": "| Data Science Tools | \n|:------------------:|\n|  RStudio           | \n| Jupyer Notebooks   | \n| Zeppelin Notebooks |  ",
      "metadata": {}
    },
    {
      "cell_type": "markdown",
      "source": "<h3>Below are few examples of evaluating arithematic expressions in Python<h3>\n1. a*b\n2. a/b\n3. a%b\n4. a//b",
      "metadata": {}
    },
    {
      "cell_type": "code",
      "source": "#This is a simple arithematic expressions to multuply then add expressions\nresult = (3 * 4) + 5\nprint(result)",
      "metadata": {
        "trusted": true
      },
      "execution_count": 7,
      "outputs": [
        {
          "name": "stdout",
          "text": "17\n",
          "output_type": "stream"
        }
      ]
    },
    {
      "cell_type": "code",
      "source": "#This will convert 200 minutes into hours by dividing by 60\nhours = (200 / 60)\nprint (hours)",
      "metadata": {
        "trusted": true
      },
      "execution_count": 8,
      "outputs": [
        {
          "name": "stdout",
          "text": "3.3333333333333335\n",
          "output_type": "stream"
        }
      ]
    },
    {
      "cell_type": "markdown",
      "source": "<h2>Author<h2>\n\n    Ejaz",
      "metadata": {}
    },
    {
      "cell_type": "code",
      "source": "",
      "metadata": {},
      "execution_count": null,
      "outputs": []
    },
    {
      "cell_type": "code",
      "source": "",
      "metadata": {},
      "execution_count": null,
      "outputs": []
    }
  ]
}